{
 "cells": [
  {
   "cell_type": "markdown",
   "id": "56104873",
   "metadata": {},
   "source": [
    "Rewards Systems Research - Homework #3: Raw Data & Simple Metrics\n",
    "https://hackmd.io/Asdc4kMZT6iynSR5mGTVeA\n",
    "\n",
    "Q1. Which SputnikDAO has approved the most grants?\n"
   ]
  },
  {
   "cell_type": "code",
   "execution_count": null,
   "id": "a6605f53",
   "metadata": {},
   "outputs": [],
   "source": [
    "import pandas as pd"
   ]
  },
  {
   "cell_type": "code",
   "execution_count": null,
   "id": "529be4ee",
   "metadata": {},
   "outputs": [],
   "source": []
  },
  {
   "cell_type": "code",
   "execution_count": null,
   "id": "ee474ce5",
   "metadata": {},
   "outputs": [],
   "source": [
    "xls = pd.ExcelFile('../data/Sputnik DAO Proposals.xlsx')\n"
   ]
  },
  {
   "cell_type": "code",
   "execution_count": null,
   "id": "b637ebe5",
   "metadata": {},
   "outputs": [],
   "source": [
    "xls.sheet_names\n"
   ]
  },
  {
   "cell_type": "code",
   "execution_count": null,
   "id": "0e0f571d",
   "metadata": {},
   "outputs": [],
   "source": [
    "# to read all sheets to a map\n",
    "# https://stackoverflow.com/questions/26521266/using-pandas-to-pd-read-excel-for-multiple-worksheets-of-the-same-workbook\n",
    "\n",
    "sheet_to_df_map = {}\n",
    "for sheet_name in xls.sheet_names:\n",
    "    sheet_to_df_map[sheet_name] = xls.parse(sheet_name)\n",
    "    print(sheet_name)\n",
    "    proposals = pd.read_excel(open('../data/Sputnik DAO Proposals.xlsx', 'rb'), \n",
    "              sheet_name=sheet_name)\n",
    "    if sheet_name != \"WORKSPACE\":\n",
    "        proposals.columns= proposals.columns.str.lower()\n",
    "        count = proposals['status'].count()\n",
    "        print(count)\n"
   ]
  },
  {
   "cell_type": "code",
   "execution_count": null,
   "id": "6c886f0b",
   "metadata": {},
   "outputs": [],
   "source": [
    "proposals = pd.read_excel(open('../data/Sputnik DAO Proposals.xlsx', 'rb'), \n",
    "              sheet_name='Degens') "
   ]
  },
  {
   "cell_type": "code",
   "execution_count": null,
   "id": "274cbb2d",
   "metadata": {},
   "outputs": [],
   "source": [
    "proposals.columns= df.columns.str.lower()\n"
   ]
  },
  {
   "cell_type": "code",
   "execution_count": null,
   "id": "928227da",
   "metadata": {},
   "outputs": [],
   "source": [
    "print(proposals)"
   ]
  },
  {
   "cell_type": "code",
   "execution_count": null,
   "id": "e7929163",
   "metadata": {},
   "outputs": [],
   "source": []
  },
  {
   "cell_type": "markdown",
   "id": "6e8848b7",
   "metadata": {},
   "source": [
    "https://datatofish.com/use-pandas-to-calculate-stats-from-an-imported-csv-file/"
   ]
  },
  {
   "cell_type": "code",
   "execution_count": null,
   "id": "e6b53f0a",
   "metadata": {},
   "outputs": [],
   "source": [
    "count = p['status'].count()\n"
   ]
  },
  {
   "cell_type": "code",
   "execution_count": null,
   "id": "80d20eb7",
   "metadata": {},
   "outputs": [],
   "source": [
    "print(count)"
   ]
  },
  {
   "cell_type": "code",
   "execution_count": null,
   "id": "d0002e64",
   "metadata": {},
   "outputs": [],
   "source": []
  },
  {
   "cell_type": "code",
   "execution_count": null,
   "id": "9e46d600",
   "metadata": {},
   "outputs": [],
   "source": []
  },
  {
   "cell_type": "code",
   "execution_count": null,
   "id": "ceeea825",
   "metadata": {},
   "outputs": [],
   "source": [
    "\n",
    "\n"
   ]
  }
 ],
 "metadata": {
  "kernelspec": {
   "display_name": "Python 3 (ipykernel)",
   "language": "python",
   "name": "python3"
  },
  "language_info": {
   "codemirror_mode": {
    "name": "ipython",
    "version": 3
   },
   "file_extension": ".py",
   "mimetype": "text/x-python",
   "name": "python",
   "nbconvert_exporter": "python",
   "pygments_lexer": "ipython3",
   "version": "3.8.10"
  }
 },
 "nbformat": 4,
 "nbformat_minor": 5
}
